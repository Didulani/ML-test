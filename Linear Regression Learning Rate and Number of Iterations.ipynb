{
 "cells": [
  {
   "cell_type": "markdown",
   "metadata": {},
   "source": [
    "## Linear Regression Learning Rate and Number of Iterations"
   ]
  },
  {
   "cell_type": "markdown",
   "metadata": {},
   "source": [
    "The following notebook will demonstrate the effect of learning rate and number of iterations on the performance of a basic linear regression model. This is a self-contained notebook and will run assuming you have installed the necessary packages (sklearn, numpy, pandas, matplotlib, bokeh). Note: Anaconda distributions already contain all of these packages pre-installed.\n",
    "\n",
    "The models presented here are simple linear regression models. The dataset used is the diabetes dataset (available through the sklearn package) which contains 442 samples, 10 features and 1 target. For the purposes of implementing a simple linear regression model, only one of the features was selected to be used to predict the target label."
   ]
  },
  {
   "cell_type": "code",
   "execution_count": 1,
   "metadata": {},
   "outputs": [],
   "source": [
    "import numpy as np\n",
    "from sklearn import datasets, linear_model\n",
    "import matplotlib.pyplot as plt\n",
    "import pandas as pd"
   ]
  },
  {
   "cell_type": "code",
   "execution_count": 2,
   "metadata": {},
   "outputs": [],
   "source": [
    "# Load the diabetes dataset\n",
    "diabetes_X, diabetes_y = datasets.load_diabetes(return_X_y=True)"
   ]
  },
  {
   "cell_type": "code",
   "execution_count": 3,
   "metadata": {},
   "outputs": [],
   "source": [
    "# Use only one feature\n",
    "diabetes_X = diabetes_X[:, np.newaxis, 2]"
   ]
  },
  {
   "cell_type": "code",
   "execution_count": 4,
   "metadata": {},
   "outputs": [],
   "source": [
    "# Split the data into training/testing sets\n",
    "diabetes_X_train = diabetes_X[:-20]\n",
    "diabetes_X_test = diabetes_X[-20:]"
   ]
  },
  {
   "cell_type": "markdown",
   "metadata": {},
   "source": [
    "As this is a basic example, it is ok to manually split the training and testing set according to the order (ie. last 20 entries are the test set) however, in general this is a bad practice. Ideally, you will **randomly** split the training and testing sets according to a pre-defined ratio appropriate for your problem (70:30, 80:20, etc.)"
   ]
  },
  {
   "cell_type": "code",
   "execution_count": 5,
   "metadata": {},
   "outputs": [],
   "source": [
    "# Split the targets into training/testing sets\n",
    "diabetes_y_train = diabetes_y[:-20]\n",
    "diabetes_y_test = diabetes_y[-20:]"
   ]
  },
  {
   "cell_type": "code",
   "execution_count": 6,
   "metadata": {},
   "outputs": [],
   "source": [
    "# Create linear regression object\n",
    "regr = linear_model.LinearRegression()"
   ]
  },
  {
   "cell_type": "code",
   "execution_count": 7,
   "metadata": {},
   "outputs": [],
   "source": [
    "regr2 = linear_model.SGDRegressor()"
   ]
  },
  {
   "cell_type": "code",
   "execution_count": 8,
   "metadata": {},
   "outputs": [
    {
     "data": {
      "text/plain": [
       "LinearRegression(copy_X=True, fit_intercept=True, n_jobs=None,\n",
       "         normalize=False)"
      ]
     },
     "execution_count": 8,
     "metadata": {},
     "output_type": "execute_result"
    }
   ],
   "source": [
    "# Train the model using the training sets\n",
    "regr.fit(diabetes_X_train, diabetes_y_train)"
   ]
  },
  {
   "cell_type": "code",
   "execution_count": 9,
   "metadata": {},
   "outputs": [],
   "source": [
    "# Make predictions using the testing set\n",
    "diabetes_y_pred = regr.predict(diabetes_X_test)"
   ]
  },
  {
   "cell_type": "code",
   "execution_count": 10,
   "metadata": {},
   "outputs": [],
   "source": [
    "#visualization loop\n",
    "import warnings\n",
    "with warnings.catch_warnings():\n",
    "    warnings.simplefilter(\"ignore\")\n",
    "    results001 =[]\n",
    "    for i in range (1,2000):\n",
    "        regr001 = linear_model.SGDRegressor(max_iter = i, tol = 0.001, learning_rate = 'constant', eta0 = 0.001);\n",
    "        regr001.fit(diabetes_X_train, diabetes_y_train);\n",
    "        results001.append([ i, regr001.intercept_.item(), regr001.coef_.item() ]);\n",
    "    results005 =[]\n",
    "    for i in range (1,2000):\n",
    "        regr005 = linear_model.SGDRegressor(max_iter = i, tol = 0.001, learning_rate = 'constant', eta0 = 0.005);\n",
    "        regr005.fit(diabetes_X_train, diabetes_y_train);\n",
    "        results005.append([ i, regr005.intercept_.item(), regr005.coef_.item() ]);\n",
    "    results01 =[]\n",
    "    for i in range (1,2000):\n",
    "        regr01 = linear_model.SGDRegressor(max_iter = i, tol = 0.001, learning_rate = 'constant', eta0 = 0.01);\n",
    "        regr01.fit(diabetes_X_train, diabetes_y_train);\n",
    "        results01.append([ i, regr01.intercept_.item(), regr01.coef_.item() ]);\n",
    "    results05 =[]\n",
    "    for i in range (1,2000):\n",
    "        regr05 = linear_model.SGDRegressor(max_iter = i, tol = 0.001, learning_rate = 'constant', eta0 = 0.05);\n",
    "        regr05.fit(diabetes_X_train, diabetes_y_train);\n",
    "        results05.append([ i, regr05.intercept_.item(), regr05.coef_.item() ]);\n",
    "    results1 =[]\n",
    "    for i in range (1,2000):\n",
    "        regr1 = linear_model.SGDRegressor(max_iter = i, tol = 0.001, learning_rate = 'constant', eta0 = 0.1);\n",
    "        regr1.fit(diabetes_X_train, diabetes_y_train);\n",
    "        results1.append([ i, regr1.intercept_.item(), regr1.coef_.item() ]);\n",
    "    results5 =[]\n",
    "    for i in range (1,2000):\n",
    "        regr5 = linear_model.SGDRegressor(max_iter = i, tol = 0.001, learning_rate = 'constant', eta0 = 0.5);\n",
    "        regr5.fit(diabetes_X_train, diabetes_y_train);\n",
    "        results5.append([ i, regr5.intercept_.item(), regr5.coef_.item() ]);\n",
    "    resultsOPT =[]\n"
   ]
  },
  {
   "cell_type": "code",
   "execution_count": 11,
   "metadata": {},
   "outputs": [],
   "source": [
    "#format the results as pandas dataframes\n",
    "results001 = pd.DataFrame(results001, columns = ['Iteration','Intercept','Coefficient']);\n",
    "results005 = pd.DataFrame(results005, columns = ['Iteration','Intercept','Coefficient']);\n",
    "results01 = pd.DataFrame(results01, columns = ['Iteration','Intercept','Coefficient']);\n",
    "results05 = pd.DataFrame(results05, columns = ['Iteration','Intercept','Coefficient']);\n",
    "results1 = pd.DataFrame(results1, columns = ['Iteration','Intercept','Coefficient']);\n",
    "results5 = pd.DataFrame(results5, columns = ['Iteration','Intercept','Coefficient']);\n"
   ]
  },
  {
   "cell_type": "code",
   "execution_count": 12,
   "metadata": {},
   "outputs": [
    {
     "data": {
      "text/html": [
       "\n",
       "    <div class=\"bk-root\">\n",
       "        <a href=\"https://bokeh.pydata.org\" target=\"_blank\" class=\"bk-logo bk-logo-small bk-logo-notebook\"></a>\n",
       "        <span id=\"1001\">Loading BokehJS ...</span>\n",
       "    </div>"
      ]
     },
     "metadata": {},
     "output_type": "display_data"
    },
    {
     "data": {
      "application/javascript": [
       "\n",
       "(function(root) {\n",
       "  function now() {\n",
       "    return new Date();\n",
       "  }\n",
       "\n",
       "  var force = true;\n",
       "\n",
       "  if (typeof (root._bokeh_onload_callbacks) === \"undefined\" || force === true) {\n",
       "    root._bokeh_onload_callbacks = [];\n",
       "    root._bokeh_is_loading = undefined;\n",
       "  }\n",
       "\n",
       "  var JS_MIME_TYPE = 'application/javascript';\n",
       "  var HTML_MIME_TYPE = 'text/html';\n",
       "  var EXEC_MIME_TYPE = 'application/vnd.bokehjs_exec.v0+json';\n",
       "  var CLASS_NAME = 'output_bokeh rendered_html';\n",
       "\n",
       "  /**\n",
       "   * Render data to the DOM node\n",
       "   */\n",
       "  function render(props, node) {\n",
       "    var script = document.createElement(\"script\");\n",
       "    node.appendChild(script);\n",
       "  }\n",
       "\n",
       "  /**\n",
       "   * Handle when an output is cleared or removed\n",
       "   */\n",
       "  function handleClearOutput(event, handle) {\n",
       "    var cell = handle.cell;\n",
       "\n",
       "    var id = cell.output_area._bokeh_element_id;\n",
       "    var server_id = cell.output_area._bokeh_server_id;\n",
       "    // Clean up Bokeh references\n",
       "    if (id != null && id in Bokeh.index) {\n",
       "      Bokeh.index[id].model.document.clear();\n",
       "      delete Bokeh.index[id];\n",
       "    }\n",
       "\n",
       "    if (server_id !== undefined) {\n",
       "      // Clean up Bokeh references\n",
       "      var cmd = \"from bokeh.io.state import curstate; print(curstate().uuid_to_server['\" + server_id + \"'].get_sessions()[0].document.roots[0]._id)\";\n",
       "      cell.notebook.kernel.execute(cmd, {\n",
       "        iopub: {\n",
       "          output: function(msg) {\n",
       "            var id = msg.content.text.trim();\n",
       "            if (id in Bokeh.index) {\n",
       "              Bokeh.index[id].model.document.clear();\n",
       "              delete Bokeh.index[id];\n",
       "            }\n",
       "          }\n",
       "        }\n",
       "      });\n",
       "      // Destroy server and session\n",
       "      var cmd = \"import bokeh.io.notebook as ion; ion.destroy_server('\" + server_id + \"')\";\n",
       "      cell.notebook.kernel.execute(cmd);\n",
       "    }\n",
       "  }\n",
       "\n",
       "  /**\n",
       "   * Handle when a new output is added\n",
       "   */\n",
       "  function handleAddOutput(event, handle) {\n",
       "    var output_area = handle.output_area;\n",
       "    var output = handle.output;\n",
       "\n",
       "    // limit handleAddOutput to display_data with EXEC_MIME_TYPE content only\n",
       "    if ((output.output_type != \"display_data\") || (!output.data.hasOwnProperty(EXEC_MIME_TYPE))) {\n",
       "      return\n",
       "    }\n",
       "\n",
       "    var toinsert = output_area.element.find(\".\" + CLASS_NAME.split(' ')[0]);\n",
       "\n",
       "    if (output.metadata[EXEC_MIME_TYPE][\"id\"] !== undefined) {\n",
       "      toinsert[toinsert.length - 1].firstChild.textContent = output.data[JS_MIME_TYPE];\n",
       "      // store reference to embed id on output_area\n",
       "      output_area._bokeh_element_id = output.metadata[EXEC_MIME_TYPE][\"id\"];\n",
       "    }\n",
       "    if (output.metadata[EXEC_MIME_TYPE][\"server_id\"] !== undefined) {\n",
       "      var bk_div = document.createElement(\"div\");\n",
       "      bk_div.innerHTML = output.data[HTML_MIME_TYPE];\n",
       "      var script_attrs = bk_div.children[0].attributes;\n",
       "      for (var i = 0; i < script_attrs.length; i++) {\n",
       "        toinsert[toinsert.length - 1].firstChild.setAttribute(script_attrs[i].name, script_attrs[i].value);\n",
       "      }\n",
       "      // store reference to server id on output_area\n",
       "      output_area._bokeh_server_id = output.metadata[EXEC_MIME_TYPE][\"server_id\"];\n",
       "    }\n",
       "  }\n",
       "\n",
       "  function register_renderer(events, OutputArea) {\n",
       "\n",
       "    function append_mime(data, metadata, element) {\n",
       "      // create a DOM node to render to\n",
       "      var toinsert = this.create_output_subarea(\n",
       "        metadata,\n",
       "        CLASS_NAME,\n",
       "        EXEC_MIME_TYPE\n",
       "      );\n",
       "      this.keyboard_manager.register_events(toinsert);\n",
       "      // Render to node\n",
       "      var props = {data: data, metadata: metadata[EXEC_MIME_TYPE]};\n",
       "      render(props, toinsert[toinsert.length - 1]);\n",
       "      element.append(toinsert);\n",
       "      return toinsert\n",
       "    }\n",
       "\n",
       "    /* Handle when an output is cleared or removed */\n",
       "    events.on('clear_output.CodeCell', handleClearOutput);\n",
       "    events.on('delete.Cell', handleClearOutput);\n",
       "\n",
       "    /* Handle when a new output is added */\n",
       "    events.on('output_added.OutputArea', handleAddOutput);\n",
       "\n",
       "    /**\n",
       "     * Register the mime type and append_mime function with output_area\n",
       "     */\n",
       "    OutputArea.prototype.register_mime_type(EXEC_MIME_TYPE, append_mime, {\n",
       "      /* Is output safe? */\n",
       "      safe: true,\n",
       "      /* Index of renderer in `output_area.display_order` */\n",
       "      index: 0\n",
       "    });\n",
       "  }\n",
       "\n",
       "  // register the mime type if in Jupyter Notebook environment and previously unregistered\n",
       "  if (root.Jupyter !== undefined) {\n",
       "    var events = require('base/js/events');\n",
       "    var OutputArea = require('notebook/js/outputarea').OutputArea;\n",
       "\n",
       "    if (OutputArea.prototype.mime_types().indexOf(EXEC_MIME_TYPE) == -1) {\n",
       "      register_renderer(events, OutputArea);\n",
       "    }\n",
       "  }\n",
       "\n",
       "  \n",
       "  if (typeof (root._bokeh_timeout) === \"undefined\" || force === true) {\n",
       "    root._bokeh_timeout = Date.now() + 5000;\n",
       "    root._bokeh_failed_load = false;\n",
       "  }\n",
       "\n",
       "  var NB_LOAD_WARNING = {'data': {'text/html':\n",
       "     \"<div style='background-color: #fdd'>\\n\"+\n",
       "     \"<p>\\n\"+\n",
       "     \"BokehJS does not appear to have successfully loaded. If loading BokehJS from CDN, this \\n\"+\n",
       "     \"may be due to a slow or bad network connection. Possible fixes:\\n\"+\n",
       "     \"</p>\\n\"+\n",
       "     \"<ul>\\n\"+\n",
       "     \"<li>re-rerun `output_notebook()` to attempt to load from CDN again, or</li>\\n\"+\n",
       "     \"<li>use INLINE resources instead, as so:</li>\\n\"+\n",
       "     \"</ul>\\n\"+\n",
       "     \"<code>\\n\"+\n",
       "     \"from bokeh.resources import INLINE\\n\"+\n",
       "     \"output_notebook(resources=INLINE)\\n\"+\n",
       "     \"</code>\\n\"+\n",
       "     \"</div>\"}};\n",
       "\n",
       "  function display_loaded() {\n",
       "    var el = document.getElementById(\"1001\");\n",
       "    if (el != null) {\n",
       "      el.textContent = \"BokehJS is loading...\";\n",
       "    }\n",
       "    if (root.Bokeh !== undefined) {\n",
       "      if (el != null) {\n",
       "        el.textContent = \"BokehJS \" + root.Bokeh.version + \" successfully loaded.\";\n",
       "      }\n",
       "    } else if (Date.now() < root._bokeh_timeout) {\n",
       "      setTimeout(display_loaded, 100)\n",
       "    }\n",
       "  }\n",
       "\n",
       "\n",
       "  function run_callbacks() {\n",
       "    try {\n",
       "      root._bokeh_onload_callbacks.forEach(function(callback) { callback() });\n",
       "    }\n",
       "    finally {\n",
       "      delete root._bokeh_onload_callbacks\n",
       "    }\n",
       "    console.info(\"Bokeh: all callbacks have finished\");\n",
       "  }\n",
       "\n",
       "  function load_libs(js_urls, callback) {\n",
       "    root._bokeh_onload_callbacks.push(callback);\n",
       "    if (root._bokeh_is_loading > 0) {\n",
       "      console.log(\"Bokeh: BokehJS is being loaded, scheduling callback at\", now());\n",
       "      return null;\n",
       "    }\n",
       "    if (js_urls == null || js_urls.length === 0) {\n",
       "      run_callbacks();\n",
       "      return null;\n",
       "    }\n",
       "    console.log(\"Bokeh: BokehJS not loaded, scheduling load and callback at\", now());\n",
       "    root._bokeh_is_loading = js_urls.length;\n",
       "    for (var i = 0; i < js_urls.length; i++) {\n",
       "      var url = js_urls[i];\n",
       "      var s = document.createElement('script');\n",
       "      s.src = url;\n",
       "      s.async = false;\n",
       "      s.onreadystatechange = s.onload = function() {\n",
       "        root._bokeh_is_loading--;\n",
       "        if (root._bokeh_is_loading === 0) {\n",
       "          console.log(\"Bokeh: all BokehJS libraries loaded\");\n",
       "          run_callbacks()\n",
       "        }\n",
       "      };\n",
       "      s.onerror = function() {\n",
       "        console.warn(\"failed to load library \" + url);\n",
       "      };\n",
       "      console.log(\"Bokeh: injecting script tag for BokehJS library: \", url);\n",
       "      document.getElementsByTagName(\"head\")[0].appendChild(s);\n",
       "    }\n",
       "  };var element = document.getElementById(\"1001\");\n",
       "  if (element == null) {\n",
       "    console.log(\"Bokeh: ERROR: autoload.js configured with elementid '1001' but no matching script tag was found. \")\n",
       "    return false;\n",
       "  }\n",
       "\n",
       "  var js_urls = [\"https://cdn.pydata.org/bokeh/release/bokeh-1.0.4.min.js\", \"https://cdn.pydata.org/bokeh/release/bokeh-widgets-1.0.4.min.js\", \"https://cdn.pydata.org/bokeh/release/bokeh-tables-1.0.4.min.js\", \"https://cdn.pydata.org/bokeh/release/bokeh-gl-1.0.4.min.js\"];\n",
       "\n",
       "  var inline_js = [\n",
       "    function(Bokeh) {\n",
       "      Bokeh.set_log_level(\"info\");\n",
       "    },\n",
       "    \n",
       "    function(Bokeh) {\n",
       "      \n",
       "    },\n",
       "    function(Bokeh) {\n",
       "      console.log(\"Bokeh: injecting CSS: https://cdn.pydata.org/bokeh/release/bokeh-1.0.4.min.css\");\n",
       "      Bokeh.embed.inject_css(\"https://cdn.pydata.org/bokeh/release/bokeh-1.0.4.min.css\");\n",
       "      console.log(\"Bokeh: injecting CSS: https://cdn.pydata.org/bokeh/release/bokeh-widgets-1.0.4.min.css\");\n",
       "      Bokeh.embed.inject_css(\"https://cdn.pydata.org/bokeh/release/bokeh-widgets-1.0.4.min.css\");\n",
       "      console.log(\"Bokeh: injecting CSS: https://cdn.pydata.org/bokeh/release/bokeh-tables-1.0.4.min.css\");\n",
       "      Bokeh.embed.inject_css(\"https://cdn.pydata.org/bokeh/release/bokeh-tables-1.0.4.min.css\");\n",
       "    }\n",
       "  ];\n",
       "\n",
       "  function run_inline_js() {\n",
       "    \n",
       "    if ((root.Bokeh !== undefined) || (force === true)) {\n",
       "      for (var i = 0; i < inline_js.length; i++) {\n",
       "        inline_js[i].call(root, root.Bokeh);\n",
       "      }if (force === true) {\n",
       "        display_loaded();\n",
       "      }} else if (Date.now() < root._bokeh_timeout) {\n",
       "      setTimeout(run_inline_js, 100);\n",
       "    } else if (!root._bokeh_failed_load) {\n",
       "      console.log(\"Bokeh: BokehJS failed to load within specified timeout.\");\n",
       "      root._bokeh_failed_load = true;\n",
       "    } else if (force !== true) {\n",
       "      var cell = $(document.getElementById(\"1001\")).parents('.cell').data().cell;\n",
       "      cell.output_area.append_execute_result(NB_LOAD_WARNING)\n",
       "    }\n",
       "\n",
       "  }\n",
       "\n",
       "  if (root._bokeh_is_loading === 0) {\n",
       "    console.log(\"Bokeh: BokehJS loaded, going straight to plotting\");\n",
       "    run_inline_js();\n",
       "  } else {\n",
       "    load_libs(js_urls, function() {\n",
       "      console.log(\"Bokeh: BokehJS plotting callback run at\", now());\n",
       "      run_inline_js();\n",
       "    });\n",
       "  }\n",
       "}(window));"
      ],
      "application/vnd.bokehjs_load.v0+json": "\n(function(root) {\n  function now() {\n    return new Date();\n  }\n\n  var force = true;\n\n  if (typeof (root._bokeh_onload_callbacks) === \"undefined\" || force === true) {\n    root._bokeh_onload_callbacks = [];\n    root._bokeh_is_loading = undefined;\n  }\n\n  \n\n  \n  if (typeof (root._bokeh_timeout) === \"undefined\" || force === true) {\n    root._bokeh_timeout = Date.now() + 5000;\n    root._bokeh_failed_load = false;\n  }\n\n  var NB_LOAD_WARNING = {'data': {'text/html':\n     \"<div style='background-color: #fdd'>\\n\"+\n     \"<p>\\n\"+\n     \"BokehJS does not appear to have successfully loaded. If loading BokehJS from CDN, this \\n\"+\n     \"may be due to a slow or bad network connection. Possible fixes:\\n\"+\n     \"</p>\\n\"+\n     \"<ul>\\n\"+\n     \"<li>re-rerun `output_notebook()` to attempt to load from CDN again, or</li>\\n\"+\n     \"<li>use INLINE resources instead, as so:</li>\\n\"+\n     \"</ul>\\n\"+\n     \"<code>\\n\"+\n     \"from bokeh.resources import INLINE\\n\"+\n     \"output_notebook(resources=INLINE)\\n\"+\n     \"</code>\\n\"+\n     \"</div>\"}};\n\n  function display_loaded() {\n    var el = document.getElementById(\"1001\");\n    if (el != null) {\n      el.textContent = \"BokehJS is loading...\";\n    }\n    if (root.Bokeh !== undefined) {\n      if (el != null) {\n        el.textContent = \"BokehJS \" + root.Bokeh.version + \" successfully loaded.\";\n      }\n    } else if (Date.now() < root._bokeh_timeout) {\n      setTimeout(display_loaded, 100)\n    }\n  }\n\n\n  function run_callbacks() {\n    try {\n      root._bokeh_onload_callbacks.forEach(function(callback) { callback() });\n    }\n    finally {\n      delete root._bokeh_onload_callbacks\n    }\n    console.info(\"Bokeh: all callbacks have finished\");\n  }\n\n  function load_libs(js_urls, callback) {\n    root._bokeh_onload_callbacks.push(callback);\n    if (root._bokeh_is_loading > 0) {\n      console.log(\"Bokeh: BokehJS is being loaded, scheduling callback at\", now());\n      return null;\n    }\n    if (js_urls == null || js_urls.length === 0) {\n      run_callbacks();\n      return null;\n    }\n    console.log(\"Bokeh: BokehJS not loaded, scheduling load and callback at\", now());\n    root._bokeh_is_loading = js_urls.length;\n    for (var i = 0; i < js_urls.length; i++) {\n      var url = js_urls[i];\n      var s = document.createElement('script');\n      s.src = url;\n      s.async = false;\n      s.onreadystatechange = s.onload = function() {\n        root._bokeh_is_loading--;\n        if (root._bokeh_is_loading === 0) {\n          console.log(\"Bokeh: all BokehJS libraries loaded\");\n          run_callbacks()\n        }\n      };\n      s.onerror = function() {\n        console.warn(\"failed to load library \" + url);\n      };\n      console.log(\"Bokeh: injecting script tag for BokehJS library: \", url);\n      document.getElementsByTagName(\"head\")[0].appendChild(s);\n    }\n  };var element = document.getElementById(\"1001\");\n  if (element == null) {\n    console.log(\"Bokeh: ERROR: autoload.js configured with elementid '1001' but no matching script tag was found. \")\n    return false;\n  }\n\n  var js_urls = [\"https://cdn.pydata.org/bokeh/release/bokeh-1.0.4.min.js\", \"https://cdn.pydata.org/bokeh/release/bokeh-widgets-1.0.4.min.js\", \"https://cdn.pydata.org/bokeh/release/bokeh-tables-1.0.4.min.js\", \"https://cdn.pydata.org/bokeh/release/bokeh-gl-1.0.4.min.js\"];\n\n  var inline_js = [\n    function(Bokeh) {\n      Bokeh.set_log_level(\"info\");\n    },\n    \n    function(Bokeh) {\n      \n    },\n    function(Bokeh) {\n      console.log(\"Bokeh: injecting CSS: https://cdn.pydata.org/bokeh/release/bokeh-1.0.4.min.css\");\n      Bokeh.embed.inject_css(\"https://cdn.pydata.org/bokeh/release/bokeh-1.0.4.min.css\");\n      console.log(\"Bokeh: injecting CSS: https://cdn.pydata.org/bokeh/release/bokeh-widgets-1.0.4.min.css\");\n      Bokeh.embed.inject_css(\"https://cdn.pydata.org/bokeh/release/bokeh-widgets-1.0.4.min.css\");\n      console.log(\"Bokeh: injecting CSS: https://cdn.pydata.org/bokeh/release/bokeh-tables-1.0.4.min.css\");\n      Bokeh.embed.inject_css(\"https://cdn.pydata.org/bokeh/release/bokeh-tables-1.0.4.min.css\");\n    }\n  ];\n\n  function run_inline_js() {\n    \n    if ((root.Bokeh !== undefined) || (force === true)) {\n      for (var i = 0; i < inline_js.length; i++) {\n        inline_js[i].call(root, root.Bokeh);\n      }if (force === true) {\n        display_loaded();\n      }} else if (Date.now() < root._bokeh_timeout) {\n      setTimeout(run_inline_js, 100);\n    } else if (!root._bokeh_failed_load) {\n      console.log(\"Bokeh: BokehJS failed to load within specified timeout.\");\n      root._bokeh_failed_load = true;\n    } else if (force !== true) {\n      var cell = $(document.getElementById(\"1001\")).parents('.cell').data().cell;\n      cell.output_area.append_execute_result(NB_LOAD_WARNING)\n    }\n\n  }\n\n  if (root._bokeh_is_loading === 0) {\n    console.log(\"Bokeh: BokehJS loaded, going straight to plotting\");\n    run_inline_js();\n  } else {\n    load_libs(js_urls, function() {\n      console.log(\"Bokeh: BokehJS plotting callback run at\", now());\n      run_inline_js();\n    });\n  }\n}(window));"
     },
     "metadata": {},
     "output_type": "display_data"
    }
   ],
   "source": [
    "#import the necessary libraries from the bokeh visualization package\n",
    "from bokeh.io import output_notebook, show, push_notebook\n",
    "from bokeh.layouts import column, row\n",
    "from bokeh.plotting import figure\n",
    "from bokeh.models import Slider, ColumnDataSource, CategoricalColorMapper\n",
    "from ipywidgets import interact\n",
    "output_notebook()"
   ]
  },
  {
   "cell_type": "code",
   "execution_count": 13,
   "metadata": {},
   "outputs": [],
   "source": [
    "#format the training and testing sets as pandas dataframes to enable easy conversion to Column Data Source\n",
    "training = []\n",
    "for i in range (0,len(diabetes_X_train)):\n",
    "    training.append([diabetes_X_train[i].item(), diabetes_y_train[i].item(),'Training Set'])\n",
    "training = pd.DataFrame(training, columns = ['X','Y','Label']) \n",
    "\n",
    "testing = []\n",
    "for i in range (0,len(diabetes_X_test)):\n",
    "    testing.append([diabetes_X_test[i].item(), diabetes_y_test[i].item(),'Testing Set'])\n",
    "testing = pd.DataFrame(testing, columns = ['X','Y','Label']) "
   ]
  },
  {
   "cell_type": "code",
   "execution_count": 14,
   "metadata": {},
   "outputs": [],
   "source": [
    "#Create Column Data Source - Bokeh Data Structure\n",
    "dataset = pd.concat([training,testing])\n",
    "dataset = ColumnDataSource(dataset)"
   ]
  },
  {
   "cell_type": "code",
   "execution_count": 15,
   "metadata": {},
   "outputs": [],
   "source": [
    "# Create Plots p (scatterplot) and p2 (bar graph)\n",
    "x_vals = np.linspace(-0.1402752958985185,0.22055522598066002,100)\n",
    "\n",
    "p = figure(x_range=( -0.1402752958985185, 0.22055522598066002), y_range=(23, 348), title = 'Visualization of Learning Rate vs. Iteration',plot_width=400, plot_height=400)\n",
    "color_mapper = CategoricalColorMapper(factors=['Training Set', 'Testing Set'], palette=['red', 'blue'])\n",
    "p.scatter('X', 'Y', source = dataset, color={'field': 'Label', 'transform': color_mapper}, legend = 'Label');\n",
    "l = p.line(x_vals , y=results001.loc[0].Coefficient * x_vals + results001.loc[0].Intercept , line_color = 'green',line_width=4)\n",
    "p.legend.location = 'bottom_right'\n",
    "p.xaxis.axis_label = 'Feature Value'\n",
    "p.yaxis.axis_label = 'Label Value'\n",
    "p2 = figure(title = 'Learning Rate vs. RSS Scores for 2000 Iterations', x_range = ['0.001', '0.005', '0.01', '0.05', '0.1', '0.5'],plot_width=400, plot_height=400)\n",
    "p2.vbar(x=['0.001', '0.005', '0.01', '0.05', '0.1', '0.5'],width = 0.5, bottom = 0, \n",
    "         top = [regr001.score(diabetes_X_test, diabetes_y_test), regr005.score(diabetes_X_test, diabetes_y_test),\n",
    "         regr01.score(diabetes_X_test, diabetes_y_test), regr05.score(diabetes_X_test, diabetes_y_test),\n",
    "         regr1.score(diabetes_X_test, diabetes_y_test), regr5.score(diabetes_X_test, diabetes_y_test)], color = 'firebrick')\n",
    "p2.xaxis.axis_label = 'Learning Rate'\n",
    "p2.yaxis.axis_label = 'RSS Score'"
   ]
  },
  {
   "cell_type": "code",
   "execution_count": 16,
   "metadata": {},
   "outputs": [
    {
     "data": {
      "text/html": [
       "\n",
       "\n",
       "\n",
       "\n",
       "\n",
       "\n",
       "  <div class=\"bk-root\" id=\"76ad76b1-fd26-4531-9592-6b094a953adf\" data-root-id=\"1098\"></div>\n"
      ]
     },
     "metadata": {},
     "output_type": "display_data"
    },
    {
     "data": {
      "application/javascript": [
       "(function(root) {\n",
       "  function embed_document(root) {\n",
       "    \n",
       "  var docs_json = {\"00edca13-228a-486d-a143-346836e3738a\":{\"roots\":{\"references\":[{\"attributes\":{\"children\":[{\"id\":\"1004\",\"subtype\":\"Figure\",\"type\":\"Plot\"},{\"id\":\"1059\",\"subtype\":\"Figure\",\"type\":\"Plot\"}]},\"id\":\"1098\",\"type\":\"Row\"},{\"attributes\":{\"below\":[{\"id\":\"1069\",\"type\":\"CategoricalAxis\"}],\"left\":[{\"id\":\"1073\",\"type\":\"LinearAxis\"}],\"plot_height\":400,\"plot_width\":400,\"renderers\":[{\"id\":\"1069\",\"type\":\"CategoricalAxis\"},{\"id\":\"1072\",\"type\":\"Grid\"},{\"id\":\"1073\",\"type\":\"LinearAxis\"},{\"id\":\"1077\",\"type\":\"Grid\"},{\"id\":\"1086\",\"type\":\"BoxAnnotation\"},{\"id\":\"1096\",\"type\":\"GlyphRenderer\"}],\"title\":{\"id\":\"1058\",\"type\":\"Title\"},\"toolbar\":{\"id\":\"1084\",\"type\":\"Toolbar\"},\"x_range\":{\"id\":\"1061\",\"type\":\"FactorRange\"},\"x_scale\":{\"id\":\"1065\",\"type\":\"CategoricalScale\"},\"y_range\":{\"id\":\"1063\",\"type\":\"DataRange1d\"},\"y_scale\":{\"id\":\"1067\",\"type\":\"LinearScale\"}},\"id\":\"1059\",\"subtype\":\"Figure\",\"type\":\"Plot\"},{\"attributes\":{\"callback\":null,\"end\":0.22055522598066002,\"start\":-0.1402752958985185},\"id\":\"1006\",\"type\":\"Range1d\"},{\"attributes\":{},\"id\":\"1029\",\"type\":\"HelpTool\"},{\"attributes\":{},\"id\":\"1081\",\"type\":\"SaveTool\"},{\"attributes\":{\"fill_alpha\":{\"value\":0.1},\"fill_color\":{\"value\":\"#1f77b4\"},\"line_alpha\":{\"value\":0.1},\"line_color\":{\"value\":\"#1f77b4\"},\"top\":{\"field\":\"top\"},\"width\":{\"value\":0.5},\"x\":{\"field\":\"x\"}},\"id\":\"1095\",\"type\":\"VBar\"},{\"attributes\":{},\"id\":\"1111\",\"type\":\"Selection\"},{\"attributes\":{\"callback\":null,\"end\":348,\"start\":23},\"id\":\"1008\",\"type\":\"Range1d\"},{\"attributes\":{\"plot\":null,\"text\":\"Learning Rate vs. RSS Scores for 2000 Iterations\"},\"id\":\"1058\",\"type\":\"Title\"},{\"attributes\":{\"fill_alpha\":{\"value\":0.1},\"fill_color\":{\"value\":\"#1f77b4\"},\"line_alpha\":{\"value\":0.1},\"line_color\":{\"value\":\"#1f77b4\"},\"x\":{\"field\":\"X\"},\"y\":{\"field\":\"Y\"}},\"id\":\"1042\",\"type\":\"Scatter\"},{\"attributes\":{},\"id\":\"1082\",\"type\":\"ResetTool\"},{\"attributes\":{},\"id\":\"1107\",\"type\":\"CategoricalTickFormatter\"},{\"attributes\":{},\"id\":\"1112\",\"type\":\"UnionRenderers\"},{\"attributes\":{\"active_drag\":\"auto\",\"active_inspect\":\"auto\",\"active_multi\":null,\"active_scroll\":\"auto\",\"active_tap\":\"auto\",\"tools\":[{\"id\":\"1024\",\"type\":\"PanTool\"},{\"id\":\"1025\",\"type\":\"WheelZoomTool\"},{\"id\":\"1026\",\"type\":\"BoxZoomTool\"},{\"id\":\"1027\",\"type\":\"SaveTool\"},{\"id\":\"1028\",\"type\":\"ResetTool\"},{\"id\":\"1029\",\"type\":\"HelpTool\"}]},\"id\":\"1030\",\"type\":\"Toolbar\"},{\"attributes\":{},\"id\":\"1010\",\"type\":\"LinearScale\"},{\"attributes\":{\"bottom_units\":\"screen\",\"fill_alpha\":{\"value\":0.5},\"fill_color\":{\"value\":\"lightgrey\"},\"left_units\":\"screen\",\"level\":\"overlay\",\"line_alpha\":{\"value\":1.0},\"line_color\":{\"value\":\"black\"},\"line_dash\":[4,4],\"line_width\":{\"value\":2},\"plot\":null,\"render_mode\":\"css\",\"right_units\":\"screen\",\"top_units\":\"screen\"},\"id\":\"1032\",\"type\":\"BoxAnnotation\"},{\"attributes\":{},\"id\":\"1083\",\"type\":\"HelpTool\"},{\"attributes\":{\"callback\":null,\"factors\":[\"0.001\",\"0.005\",\"0.01\",\"0.05\",\"0.1\",\"0.5\"]},\"id\":\"1061\",\"type\":\"FactorRange\"},{\"attributes\":{},\"id\":\"1113\",\"type\":\"Selection\"},{\"attributes\":{},\"id\":\"1012\",\"type\":\"LinearScale\"},{\"attributes\":{\"data_source\":{\"id\":\"1002\",\"type\":\"ColumnDataSource\"},\"glyph\":{\"id\":\"1041\",\"type\":\"Scatter\"},\"hover_glyph\":null,\"muted_glyph\":null,\"nonselection_glyph\":{\"id\":\"1042\",\"type\":\"Scatter\"},\"selection_glyph\":null,\"view\":{\"id\":\"1044\",\"type\":\"CDSView\"}},\"id\":\"1043\",\"type\":\"GlyphRenderer\"},{\"attributes\":{\"callback\":null},\"id\":\"1063\",\"type\":\"DataRange1d\"},{\"attributes\":{},\"id\":\"1115\",\"type\":\"UnionRenderers\"},{\"attributes\":{\"active_drag\":\"auto\",\"active_inspect\":\"auto\",\"active_multi\":null,\"active_scroll\":\"auto\",\"active_tap\":\"auto\",\"tools\":[{\"id\":\"1078\",\"type\":\"PanTool\"},{\"id\":\"1079\",\"type\":\"WheelZoomTool\"},{\"id\":\"1080\",\"type\":\"BoxZoomTool\"},{\"id\":\"1081\",\"type\":\"SaveTool\"},{\"id\":\"1082\",\"type\":\"ResetTool\"},{\"id\":\"1083\",\"type\":\"HelpTool\"}]},\"id\":\"1084\",\"type\":\"Toolbar\"},{\"attributes\":{\"axis_label\":\"Feature Value\",\"formatter\":{\"id\":\"1048\",\"type\":\"BasicTickFormatter\"},\"plot\":{\"id\":\"1004\",\"subtype\":\"Figure\",\"type\":\"Plot\"},\"ticker\":{\"id\":\"1015\",\"type\":\"BasicTicker\"}},\"id\":\"1014\",\"type\":\"LinearAxis\"},{\"attributes\":{\"data_source\":{\"id\":\"1093\",\"type\":\"ColumnDataSource\"},\"glyph\":{\"id\":\"1094\",\"type\":\"VBar\"},\"hover_glyph\":null,\"muted_glyph\":null,\"nonselection_glyph\":{\"id\":\"1095\",\"type\":\"VBar\"},\"selection_glyph\":null,\"view\":{\"id\":\"1097\",\"type\":\"CDSView\"}},\"id\":\"1096\",\"type\":\"GlyphRenderer\"},{\"attributes\":{},\"id\":\"1065\",\"type\":\"CategoricalScale\"},{\"attributes\":{\"fill_color\":{\"field\":\"Label\",\"transform\":{\"id\":\"1039\",\"type\":\"CategoricalColorMapper\"}},\"line_color\":{\"field\":\"Label\",\"transform\":{\"id\":\"1039\",\"type\":\"CategoricalColorMapper\"}},\"x\":{\"field\":\"X\"},\"y\":{\"field\":\"Y\"}},\"id\":\"1041\",\"type\":\"Scatter\"},{\"attributes\":{},\"id\":\"1015\",\"type\":\"BasicTicker\"},{\"attributes\":{\"source\":{\"id\":\"1093\",\"type\":\"ColumnDataSource\"}},\"id\":\"1097\",\"type\":\"CDSView\"},{\"attributes\":{},\"id\":\"1067\",\"type\":\"LinearScale\"},{\"attributes\":{},\"id\":\"1116\",\"type\":\"Selection\"},{\"attributes\":{\"plot\":{\"id\":\"1004\",\"subtype\":\"Figure\",\"type\":\"Plot\"},\"ticker\":{\"id\":\"1015\",\"type\":\"BasicTicker\"}},\"id\":\"1018\",\"type\":\"Grid\"},{\"attributes\":{\"axis_label\":\"Learning Rate\",\"formatter\":{\"id\":\"1107\",\"type\":\"CategoricalTickFormatter\"},\"plot\":{\"id\":\"1059\",\"subtype\":\"Figure\",\"type\":\"Plot\"},\"ticker\":{\"id\":\"1070\",\"type\":\"CategoricalTicker\"}},\"id\":\"1069\",\"type\":\"CategoricalAxis\"},{\"attributes\":{\"axis_label\":\"Label Value\",\"formatter\":{\"id\":\"1046\",\"type\":\"BasicTickFormatter\"},\"plot\":{\"id\":\"1004\",\"subtype\":\"Figure\",\"type\":\"Plot\"},\"ticker\":{\"id\":\"1020\",\"type\":\"BasicTicker\"}},\"id\":\"1019\",\"type\":\"LinearAxis\"},{\"attributes\":{},\"id\":\"1070\",\"type\":\"CategoricalTicker\"},{\"attributes\":{\"plot\":{\"id\":\"1059\",\"subtype\":\"Figure\",\"type\":\"Plot\"},\"ticker\":{\"id\":\"1070\",\"type\":\"CategoricalTicker\"}},\"id\":\"1072\",\"type\":\"Grid\"},{\"attributes\":{},\"id\":\"1020\",\"type\":\"BasicTicker\"},{\"attributes\":{},\"id\":\"1046\",\"type\":\"BasicTickFormatter\"},{\"attributes\":{\"dimension\":1,\"plot\":{\"id\":\"1004\",\"subtype\":\"Figure\",\"type\":\"Plot\"},\"ticker\":{\"id\":\"1020\",\"type\":\"BasicTicker\"}},\"id\":\"1023\",\"type\":\"Grid\"},{\"attributes\":{\"axis_label\":\"RSS Score\",\"formatter\":{\"id\":\"1105\",\"type\":\"BasicTickFormatter\"},\"plot\":{\"id\":\"1059\",\"subtype\":\"Figure\",\"type\":\"Plot\"},\"ticker\":{\"id\":\"1074\",\"type\":\"BasicTicker\"}},\"id\":\"1073\",\"type\":\"LinearAxis\"},{\"attributes\":{},\"id\":\"1048\",\"type\":\"BasicTickFormatter\"},{\"attributes\":{\"callback\":null,\"data\":{\"x\":{\"__ndarray__\":\"8BEpeIr0wb/roTwRHH3Bv+cxUKqtBcG/4sFjQz+OwL/dUXfc0BbAv7HDFevEPr+/qOM8HehPvr+eA2RPC2G9v5Uji4Eucry/jEOys1GDu7+CY9nldJS6v3mDABiYpbm/cKMnSru2uL9mw0583se3v13jda4B2ba/VAOd4CTqtb9KI8QSSPu0v0BD60RrDLS/N2MSd44ds78ugzmpsS6yvySjYNvUP7G/G8OHDfhQsL8kxl1/NsSuvxAGrON85qy//kX6R8MIq7/shUisCSupv9jFlhBQTae/xgXldJZvpb+0RTPZ3JGjv6CFgT0jtKG/HIufQ9Osn7/0CjwMYPGbv9CK2NTsNZi/rAp1nXl6lL+EihFmBr+Qv8AUXF0mB4q/cBSV7j+Qgr9gKJz/sjJ2vwCfOIiYE12/gGP/7ZqjXj+A2Q2Zs5Z2PwDtTTtAwoI/UO0UqiY5ij/Q9m2MBtiQP/B20cN5k5Q/GPc0++xOmD9Ad5gyYAqcP2D3+2nTxZ8/xLuvUKPAoT/Ye2HsXJ6jP+g7E4gWfKU//PvEI9BZpz8QvHa/iTepPyB8KFtDFas/NDza9vzyrD9I/IuSttCuPyzeHhc4V7A/Nr735BRGsT9AntCy8TSyP0p+qYDOI7M/Ul6CTqsStD9cPlsciAG1P2YeNOpk8LU/bv4MuEHftj943uWFHs63P4K+vlP7vLg/ip6XIdiruT+UfnDvtJq6P55eSb2Ribs/qD4ii254vD+wHvtYS2e9P7j+0yYoVr4/xN6s9ARFvz9m30Lh8BnAP2pPL0hfkcA/cL8br80IwT90LwgWPIDBP3if9Hyq98E/fg/h4xhvwj+Cf81Kh+bCP4jvubH1XcM/jF+mGGTVwz+Qz5J/0kzEP5Y/f+ZAxMQ/mq9rTa87xT+eH1i0HbPFP6SPRBuMKsY/qP8wgvqhxj+sbx3paBnHP7LfCVDXkMc/tk/2tkUIyD+6v+IdtH/IP8Avz4Qi98g/xJ+765BuyT/ID6hS/+XJP85/lLltXco/0u+AINzUyj/WX22HSkzLP9zPWe64w8s/4D9GVSc7zD8=\",\"dtype\":\"float64\",\"shape\":[100]},\"y\":{\"__ndarray__\":\"yILMKmA/SkBbqkcPzj9KQO/RwvM7QEpAgvk92KlASkAVIbm8F0FKQKhINKGFQUpAO3CvhfNBSkDPlypqYUJKQGK/pU7PQkpA9eYgMz1DSkCIDpwXq0NKQBs2F/wYREpAr12S4IZESkBChQ3F9ERKQNWsiKliRUpAaNQDjtBFSkD7+35yPkZKQI4j+lasRkpAIkt1OxpHSkC1cvAfiEdKQEiaawT2R0pA28Hm6GNISkBu6WHN0UhKQAIR3bE/SUpAlThYlq1JSkAoYNN6G0pKQLuHTl+JSkpATq/JQ/dKSkDi1kQoZUtKQHX+vwzTS0pACCY78UBMSkCbTbbVrkxKQC51MbocTUpAwpysnopNSkBVxCeD+E1KQOjromdmTkpAexMeTNROSkAOO5kwQk9KQKFiFBWwT0pANYqP+R1QSkDIsQrei1BKQFvZhcL5UEpA7gABp2dRSkCBKHyL1VFKQBVQ929DUkpAqHdyVLFSSkA7n+04H1NKQM7GaB2NU0pAYe7jAftTSkD1FV/maFRKQIg92srWVEpAG2VVr0RVSkCujNCTslVKQEG0S3ggVkpA1dvGXI5WSkBoA0JB/FZKQPsqvSVqV0pAjlI4CthXSkAherPuRVhKQLShLtOzWEpASMmptyFZSkDb8CScj1lKQG4YoID9WUpAAUAbZWtaSkCUZ5ZJ2VpKQCiPES5HW0pAu7aMErVbSkBO3gf3IlxKQOEFg9uQXEpAdC3+v/5cSkAIVXmkbF1KQJt89IjaXUpALqRvbUheSkDBy+pRtl5KQFTzZTYkX0pA6BrhGpJfSkB7Qlz//19KQA5q1+NtYEpAoZFSyNtgSkA0uc2sSWFKQMjgSJG3YUpAWwjEdSViSkDuLz9ak2JKQIFXuj4BY0pAFH81I29jSkCnprAH3WNKQDvOK+xKZEpAzvWm0LhkSkBhHSK1JmVKQPREnZmUZUpAh2wYfgJmSkAblJNicGZKQK67DkfeZkpAQeOJK0xnSkDUCgUQumdKQGcygPQnaEpA+1n72JVoSkCOgXa9A2lKQCGp8aFxaUpAtNBsht9pSkA=\",\"dtype\":\"float64\",\"shape\":[100]}},\"selected\":{\"id\":\"1113\",\"type\":\"Selection\"},\"selection_policy\":{\"id\":\"1112\",\"type\":\"UnionRenderers\"}},\"id\":\"1053\",\"type\":\"ColumnDataSource\"},{\"attributes\":{\"source\":{\"id\":\"1002\",\"type\":\"ColumnDataSource\"}},\"id\":\"1044\",\"type\":\"CDSView\"},{\"attributes\":{},\"id\":\"1074\",\"type\":\"BasicTicker\"},{\"attributes\":{\"items\":[{\"id\":\"1052\",\"type\":\"LegendItem\"}],\"location\":\"bottom_right\",\"plot\":{\"id\":\"1004\",\"subtype\":\"Figure\",\"type\":\"Plot\"}},\"id\":\"1051\",\"type\":\"Legend\"},{\"attributes\":{\"dimension\":1,\"plot\":{\"id\":\"1059\",\"subtype\":\"Figure\",\"type\":\"Plot\"},\"ticker\":{\"id\":\"1074\",\"type\":\"BasicTicker\"}},\"id\":\"1077\",\"type\":\"Grid\"},{\"attributes\":{\"label\":{\"field\":\"Label\"},\"renderers\":[{\"id\":\"1043\",\"type\":\"GlyphRenderer\"}]},\"id\":\"1052\",\"type\":\"LegendItem\"},{\"attributes\":{\"bottom_units\":\"screen\",\"fill_alpha\":{\"value\":0.5},\"fill_color\":{\"value\":\"lightgrey\"},\"left_units\":\"screen\",\"level\":\"overlay\",\"line_alpha\":{\"value\":1.0},\"line_color\":{\"value\":\"black\"},\"line_dash\":[4,4],\"line_width\":{\"value\":2},\"plot\":null,\"render_mode\":\"css\",\"right_units\":\"screen\",\"top_units\":\"screen\"},\"id\":\"1086\",\"type\":\"BoxAnnotation\"},{\"attributes\":{},\"id\":\"1024\",\"type\":\"PanTool\"},{\"attributes\":{\"fill_color\":{\"value\":\"firebrick\"},\"line_color\":{\"value\":\"firebrick\"},\"top\":{\"field\":\"top\"},\"width\":{\"value\":0.5},\"x\":{\"field\":\"x\"}},\"id\":\"1094\",\"type\":\"VBar\"},{\"attributes\":{\"callback\":null,\"data\":{\"top\":[0.3912773386134921,0.31863411031001865,0.42410335294318047,0.4087246442399096,0.5178157856704466,0.5240330907564494],\"x\":[\"0.001\",\"0.005\",\"0.01\",\"0.05\",\"0.1\",\"0.5\"]},\"selected\":{\"id\":\"1116\",\"type\":\"Selection\"},\"selection_policy\":{\"id\":\"1115\",\"type\":\"UnionRenderers\"}},\"id\":\"1093\",\"type\":\"ColumnDataSource\"},{\"attributes\":{},\"id\":\"1025\",\"type\":\"WheelZoomTool\"},{\"attributes\":{\"line_color\":\"green\",\"line_width\":4,\"x\":{\"field\":\"x\"},\"y\":{\"field\":\"y\"}},\"id\":\"1054\",\"type\":\"Line\"},{\"attributes\":{\"factors\":[\"Training Set\",\"Testing Set\"],\"palette\":[\"red\",\"blue\"]},\"id\":\"1039\",\"type\":\"CategoricalColorMapper\"},{\"attributes\":{\"overlay\":{\"id\":\"1032\",\"type\":\"BoxAnnotation\"}},\"id\":\"1026\",\"type\":\"BoxZoomTool\"},{\"attributes\":{},\"id\":\"1078\",\"type\":\"PanTool\"},{\"attributes\":{\"line_alpha\":0.1,\"line_color\":\"#1f77b4\",\"line_width\":4,\"x\":{\"field\":\"x\"},\"y\":{\"field\":\"y\"}},\"id\":\"1055\",\"type\":\"Line\"},{\"attributes\":{},\"id\":\"1105\",\"type\":\"BasicTickFormatter\"},{\"attributes\":{},\"id\":\"1027\",\"type\":\"SaveTool\"},{\"attributes\":{\"callback\":null,\"data\":{\"Label\":[\"Training Set\",\"Training Set\",\"Training Set\",\"Training Set\",\"Training Set\",\"Training Set\",\"Training Set\",\"Training Set\",\"Training Set\",\"Training Set\",\"Training Set\",\"Training Set\",\"Training Set\",\"Training Set\",\"Training Set\",\"Training Set\",\"Training Set\",\"Training Set\",\"Training Set\",\"Training Set\",\"Training Set\",\"Training Set\",\"Training Set\",\"Training Set\",\"Training Set\",\"Training Set\",\"Training Set\",\"Training Set\",\"Training Set\",\"Training Set\",\"Training Set\",\"Training Set\",\"Training Set\",\"Training Set\",\"Training Set\",\"Training Set\",\"Training Set\",\"Training Set\",\"Training Set\",\"Training Set\",\"Training Set\",\"Training Set\",\"Training Set\",\"Training Set\",\"Training Set\",\"Training Set\",\"Training Set\",\"Training Set\",\"Training Set\",\"Training Set\",\"Training Set\",\"Training Set\",\"Training Set\",\"Training Set\",\"Training Set\",\"Training Set\",\"Training Set\",\"Training Set\",\"Training Set\",\"Training Set\",\"Training Set\",\"Training Set\",\"Training Set\",\"Training Set\",\"Training Set\",\"Training Set\",\"Training Set\",\"Training Set\",\"Training Set\",\"Training Set\",\"Training Set\",\"Training Set\",\"Training Set\",\"Training Set\",\"Training Set\",\"Training Set\",\"Training Set\",\"Training Set\",\"Training Set\",\"Training Set\",\"Training Set\",\"Training Set\",\"Training Set\",\"Training Set\",\"Training Set\",\"Training Set\",\"Training Set\",\"Training Set\",\"Training Set\",\"Training Set\",\"Training Set\",\"Training Set\",\"Training Set\",\"Training Set\",\"Training Set\",\"Training Set\",\"Training Set\",\"Training Set\",\"Training Set\",\"Training Set\",\"Training Set\",\"Training Set\",\"Training Set\",\"Training Set\",\"Training Set\",\"Training Set\",\"Training Set\",\"Training Set\",\"Training Set\",\"Training Set\",\"Training Set\",\"Training Set\",\"Training Set\",\"Training Set\",\"Training Set\",\"Training Set\",\"Training Set\",\"Training Set\",\"Training Set\",\"Training Set\",\"Training Set\",\"Training Set\",\"Training Set\",\"Training Set\",\"Training Set\",\"Training Set\",\"Training Set\",\"Training Set\",\"Training Set\",\"Training Set\",\"Training Set\",\"Training Set\",\"Training Set\",\"Training Set\",\"Training Set\",\"Training Set\",\"Training Set\",\"Training Set\",\"Training Set\",\"Training Set\",\"Training Set\",\"Training Set\",\"Training Set\",\"Training Set\",\"Training Set\",\"Training Set\",\"Training Set\",\"Training Set\",\"Training Set\",\"Training Set\",\"Training Set\",\"Training Set\",\"Training Set\",\"Training Set\",\"Training Set\",\"Training Set\",\"Training Set\",\"Training Set\",\"Training Set\",\"Training Set\",\"Training Set\",\"Training Set\",\"Training Set\",\"Training Set\",\"Training Set\",\"Training Set\",\"Training Set\",\"Training Set\",\"Training Set\",\"Training Set\",\"Training Set\",\"Training Set\",\"Training Set\",\"Training Set\",\"Training Set\",\"Training Set\",\"Training Set\",\"Training Set\",\"Training Set\",\"Training Set\",\"Training Set\",\"Training Set\",\"Training Set\",\"Training Set\",\"Training Set\",\"Training Set\",\"Training Set\",\"Training Set\",\"Training Set\",\"Training Set\",\"Training Set\",\"Training Set\",\"Training Set\",\"Training Set\",\"Training Set\",\"Training Set\",\"Training Set\",\"Training Set\",\"Training Set\",\"Training Set\",\"Training Set\",\"Training Set\",\"Training Set\",\"Training Set\",\"Training Set\",\"Training Set\",\"Training Set\",\"Training Set\",\"Training Set\",\"Training Set\",\"Training Set\",\"Training Set\",\"Training Set\",\"Training Set\",\"Training Set\",\"Training Set\",\"Training Set\",\"Training Set\",\"Training Set\",\"Training Set\",\"Training Set\",\"Training Set\",\"Training Set\",\"Training Set\",\"Training Set\",\"Training Set\",\"Training Set\",\"Training Set\",\"Training Set\",\"Training Set\",\"Training Set\",\"Training Set\",\"Training Set\",\"Training Set\",\"Training Set\",\"Training Set\",\"Training Set\",\"Training Set\",\"Training Set\",\"Training Set\",\"Training Set\",\"Training Set\",\"Training Set\",\"Training Set\",\"Training Set\",\"Training Set\",\"Training Set\",\"Training Set\",\"Training Set\",\"Training Set\",\"Training Set\",\"Training Set\",\"Training Set\",\"Training Set\",\"Training Set\",\"Training Set\",\"Training Set\",\"Training Set\",\"Training Set\",\"Training Set\",\"Training Set\",\"Training Set\",\"Training Set\",\"Training Set\",\"Training Set\",\"Training Set\",\"Training Set\",\"Training Set\",\"Training Set\",\"Training Set\",\"Training Set\",\"Training Set\",\"Training Set\",\"Training Set\",\"Training Set\",\"Training Set\",\"Training Set\",\"Training Set\",\"Training Set\",\"Training Set\",\"Training Set\",\"Training Set\",\"Training Set\",\"Training Set\",\"Training Set\",\"Training Set\",\"Training Set\",\"Training Set\",\"Training Set\",\"Training Set\",\"Training Set\",\"Training Set\",\"Training Set\",\"Training Set\",\"Training Set\",\"Training Set\",\"Training Set\",\"Training Set\",\"Training Set\",\"Training Set\",\"Training Set\",\"Training Set\",\"Training Set\",\"Training Set\",\"Training Set\",\"Training Set\",\"Training Set\",\"Training Set\",\"Training Set\",\"Training Set\",\"Training Set\",\"Training Set\",\"Training Set\",\"Training Set\",\"Training Set\",\"Training Set\",\"Training Set\",\"Training Set\",\"Training Set\",\"Training Set\",\"Training Set\",\"Training Set\",\"Training Set\",\"Training Set\",\"Training Set\",\"Training Set\",\"Training Set\",\"Training Set\",\"Training Set\",\"Training Set\",\"Training Set\",\"Training Set\",\"Training Set\",\"Training Set\",\"Training Set\",\"Training Set\",\"Training Set\",\"Training Set\",\"Training Set\",\"Training Set\",\"Training Set\",\"Training Set\",\"Training Set\",\"Training Set\",\"Training Set\",\"Training Set\",\"Training Set\",\"Training Set\",\"Training Set\",\"Training Set\",\"Training Set\",\"Training Set\",\"Training Set\",\"Training Set\",\"Training Set\",\"Training Set\",\"Training Set\",\"Training Set\",\"Training Set\",\"Training Set\",\"Training Set\",\"Training Set\",\"Training Set\",\"Training Set\",\"Training Set\",\"Training Set\",\"Training Set\",\"Training Set\",\"Training Set\",\"Training Set\",\"Training Set\",\"Training Set\",\"Training Set\",\"Training Set\",\"Training Set\",\"Training Set\",\"Training Set\",\"Training Set\",\"Training Set\",\"Training Set\",\"Training Set\",\"Training Set\",\"Training Set\",\"Training Set\",\"Training Set\",\"Training Set\",\"Training Set\",\"Training Set\",\"Training Set\",\"Training Set\",\"Training Set\",\"Training Set\",\"Training Set\",\"Training Set\",\"Training Set\",\"Training Set\",\"Training Set\",\"Training Set\",\"Training Set\",\"Training Set\",\"Training Set\",\"Training Set\",\"Training Set\",\"Training Set\",\"Training Set\",\"Training Set\",\"Training Set\",\"Training Set\",\"Training Set\",\"Training Set\",\"Training Set\",\"Training Set\",\"Training Set\",\"Training Set\",\"Training Set\",\"Training Set\",\"Training Set\",\"Training Set\",\"Training Set\",\"Training Set\",\"Training Set\",\"Training Set\",\"Testing Set\",\"Testing Set\",\"Testing Set\",\"Testing Set\",\"Testing Set\",\"Testing Set\",\"Testing Set\",\"Testing Set\",\"Testing Set\",\"Testing Set\",\"Testing Set\",\"Testing Set\",\"Testing Set\",\"Testing Set\",\"Testing Set\",\"Testing Set\",\"Testing Set\",\"Testing Set\",\"Testing Set\",\"Testing Set\"],\"X\":{\"__ndarray__\":\"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\",\"dtype\":\"float64\",\"shape\":[442]},\"Y\":{\"__ndarray__\":\"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\",\"dtype\":\"float64\",\"shape\":[442]},\"index\":[0,1,2,3,4,5,6,7,8,9,10,11,12,13,14,15,16,17,18,19,20,21,22,23,24,25,26,27,28,29,30,31,32,33,34,35,36,37,38,39,40,41,42,43,44,45,46,47,48,49,50,51,52,53,54,55,56,57,58,59,60,61,62,63,64,65,66,67,68,69,70,71,72,73,74,75,76,77,78,79,80,81,82,83,84,85,86,87,88,89,90,91,92,93,94,95,96,97,98,99,100,101,102,103,104,105,106,107,108,109,110,111,112,113,114,115,116,117,118,119,120,121,122,123,124,125,126,127,128,129,130,131,132,133,134,135,136,137,138,139,140,141,142,143,144,145,146,147,148,149,150,151,152,153,154,155,156,157,158,159,160,161,162,163,164,165,166,167,168,169,170,171,172,173,174,175,176,177,178,179,180,181,182,183,184,185,186,187,188,189,190,191,192,193,194,195,196,197,198,199,200,201,202,203,204,205,206,207,208,209,210,211,212,213,214,215,216,217,218,219,220,221,222,223,224,225,226,227,228,229,230,231,232,233,234,235,236,237,238,239,240,241,242,243,244,245,246,247,248,249,250,251,252,253,254,255,256,257,258,259,260,261,262,263,264,265,266,267,268,269,270,271,272,273,274,275,276,277,278,279,280,281,282,283,284,285,286,287,288,289,290,291,292,293,294,295,296,297,298,299,300,301,302,303,304,305,306,307,308,309,310,311,312,313,314,315,316,317,318,319,320,321,322,323,324,325,326,327,328,329,330,331,332,333,334,335,336,337,338,339,340,341,342,343,344,345,346,347,348,349,350,351,352,353,354,355,356,357,358,359,360,361,362,363,364,365,366,367,368,369,370,371,372,373,374,375,376,377,378,379,380,381,382,383,384,385,386,387,388,389,390,391,392,393,394,395,396,397,398,399,400,401,402,403,404,405,406,407,408,409,410,411,412,413,414,415,416,417,418,419,420,421,0,1,2,3,4,5,6,7,8,9,10,11,12,13,14,15,16,17,18,19]},\"selected\":{\"id\":\"1111\",\"type\":\"Selection\"},\"selection_policy\":{\"id\":\"1110\",\"type\":\"UnionRenderers\"}},\"id\":\"1002\",\"type\":\"ColumnDataSource\"},{\"attributes\":{\"below\":[{\"id\":\"1014\",\"type\":\"LinearAxis\"}],\"left\":[{\"id\":\"1019\",\"type\":\"LinearAxis\"}],\"plot_height\":400,\"plot_width\":400,\"renderers\":[{\"id\":\"1014\",\"type\":\"LinearAxis\"},{\"id\":\"1018\",\"type\":\"Grid\"},{\"id\":\"1019\",\"type\":\"LinearAxis\"},{\"id\":\"1023\",\"type\":\"Grid\"},{\"id\":\"1032\",\"type\":\"BoxAnnotation\"},{\"id\":\"1051\",\"type\":\"Legend\"},{\"id\":\"1043\",\"type\":\"GlyphRenderer\"},{\"id\":\"1056\",\"type\":\"GlyphRenderer\"}],\"title\":{\"id\":\"1003\",\"type\":\"Title\"},\"toolbar\":{\"id\":\"1030\",\"type\":\"Toolbar\"},\"x_range\":{\"id\":\"1006\",\"type\":\"Range1d\"},\"x_scale\":{\"id\":\"1010\",\"type\":\"LinearScale\"},\"y_range\":{\"id\":\"1008\",\"type\":\"Range1d\"},\"y_scale\":{\"id\":\"1012\",\"type\":\"LinearScale\"}},\"id\":\"1004\",\"subtype\":\"Figure\",\"type\":\"Plot\"},{\"attributes\":{\"data_source\":{\"id\":\"1053\",\"type\":\"ColumnDataSource\"},\"glyph\":{\"id\":\"1054\",\"type\":\"Line\"},\"hover_glyph\":null,\"muted_glyph\":null,\"nonselection_glyph\":{\"id\":\"1055\",\"type\":\"Line\"},\"selection_glyph\":null,\"view\":{\"id\":\"1057\",\"type\":\"CDSView\"}},\"id\":\"1056\",\"type\":\"GlyphRenderer\"},{\"attributes\":{},\"id\":\"1079\",\"type\":\"WheelZoomTool\"},{\"attributes\":{\"overlay\":{\"id\":\"1086\",\"type\":\"BoxAnnotation\"}},\"id\":\"1080\",\"type\":\"BoxZoomTool\"},{\"attributes\":{\"plot\":null,\"text\":\"Visualization of Learning Rate vs. Iteration\"},\"id\":\"1003\",\"type\":\"Title\"},{\"attributes\":{},\"id\":\"1028\",\"type\":\"ResetTool\"},{\"attributes\":{\"source\":{\"id\":\"1053\",\"type\":\"ColumnDataSource\"}},\"id\":\"1057\",\"type\":\"CDSView\"},{\"attributes\":{},\"id\":\"1110\",\"type\":\"UnionRenderers\"}],\"root_ids\":[\"1098\"]},\"title\":\"Bokeh Application\",\"version\":\"1.0.4\"}};\n",
       "  var render_items = [{\"docid\":\"00edca13-228a-486d-a143-346836e3738a\",\"notebook_comms_target\":\"1117\",\"roots\":{\"1098\":\"76ad76b1-fd26-4531-9592-6b094a953adf\"}}];\n",
       "  root.Bokeh.embed.embed_items_notebook(docs_json, render_items);\n",
       "\n",
       "  }\n",
       "  if (root.Bokeh !== undefined) {\n",
       "    embed_document(root);\n",
       "  } else {\n",
       "    var attempts = 0;\n",
       "    var timer = setInterval(function(root) {\n",
       "      if (root.Bokeh !== undefined) {\n",
       "        embed_document(root);\n",
       "        clearInterval(timer);\n",
       "      }\n",
       "      attempts++;\n",
       "      if (attempts > 100) {\n",
       "        console.log(\"Bokeh: ERROR: Unable to run BokehJS code because BokehJS library is missing\");\n",
       "        clearInterval(timer);\n",
       "      }\n",
       "    }, 10, root)\n",
       "  }\n",
       "})(window);"
      ],
      "application/vnd.bokehjs_exec.v0+json": ""
     },
     "metadata": {
      "application/vnd.bokehjs_exec.v0+json": {
       "id": "1098"
      }
     },
     "output_type": "display_data"
    },
    {
     "data": {
      "application/vnd.jupyter.widget-view+json": {
       "model_id": "01c0866fba694861b0a5bda028fd2039",
       "version_major": 2,
       "version_minor": 0
      },
      "text/plain": [
       "interactive(children=(IntSlider(value=1000, description='iteration', max=1999, min=1), Dropdown(description='l…"
      ]
     },
     "metadata": {},
     "output_type": "display_data"
    },
    {
     "data": {
      "text/plain": [
       "<function __main__.update(iteration, lr)>"
      ]
     },
     "execution_count": 16,
     "metadata": {},
     "output_type": "execute_result"
    }
   ],
   "source": [
    "#create a slider and dropdown and define an update function\n",
    "def update(iteration,lr):\n",
    "    if lr == 0.001:\n",
    "        l.data_source.data['x'] = x_vals\n",
    "        l.data_source.data['y'] = results001.loc[iteration-1].Coefficient * x_vals + results001.loc[iteration-1].Intercept\n",
    "    elif lr == 0.005:\n",
    "        l.data_source.data['x'] = x_vals\n",
    "        l.data_source.data['y'] = results005.loc[iteration-1].Coefficient * x_vals + results005.loc[iteration-1].Intercept\n",
    "    elif lr == 0.01:\n",
    "        l.data_source.data['x'] = x_vals\n",
    "        l.data_source.data['y'] = results01.loc[iteration-1].Coefficient * x_vals + results01.loc[iteration-1].Intercept\n",
    "    elif lr == 0.05:\n",
    "        l.data_source.data['x'] = x_vals\n",
    "        l.data_source.data['y'] = results05.loc[iteration-1].Coefficient * x_vals + results05.loc[iteration-1].Intercept\n",
    "    elif lr == 0.1:\n",
    "        l.data_source.data['x'] = x_vals\n",
    "        l.data_source.data['y'] = results1.loc[iteration-1].Coefficient * x_vals + results1.loc[iteration-1].Intercept\n",
    "    elif lr == 0.5:\n",
    "        l.data_source.data['x'] = x_vals\n",
    "        l.data_source.data['y'] = results5.loc[iteration-1].Coefficient * x_vals + results5.loc[iteration-1].Intercept\n",
    "    push_notebook()\n",
    "#show the ressulting figures\n",
    "show(row(p,p2), notebook_handle = True)\n",
    "interact(update, iteration = (1,1999,1), lr=[0.001,0.005,0.01,0.05,0.1,0.5])"
   ]
  },
  {
   "cell_type": "markdown",
   "metadata": {},
   "source": [
    "Examine the above learning rates from the drop-down menu and explore the progression of the predicted line (green) across various iterations. Additionally, use the Learning Rate vs. RSS Scores graph to answer the following questions:\n",
    "\n",
    "1. What do you notice when you vary the learning rate?\n",
    "\n",
    "2. Did some learning rates perform better than others?\n",
    "\n",
    "3. Try re-running the entire notebook, do you get the same results? Why or why not?"
   ]
  }
 ],
 "metadata": {
  "kernelspec": {
   "display_name": "Python 3",
   "language": "python",
   "name": "python3"
  },
  "language_info": {
   "codemirror_mode": {
    "name": "ipython",
    "version": 3
   },
   "file_extension": ".py",
   "mimetype": "text/x-python",
   "name": "python",
   "nbconvert_exporter": "python",
   "pygments_lexer": "ipython3",
   "version": "3.6.8"
  }
 },
 "nbformat": 4,
 "nbformat_minor": 2
}
